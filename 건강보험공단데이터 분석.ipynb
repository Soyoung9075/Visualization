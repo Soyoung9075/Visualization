{
 "cells": [
  {
   "cell_type": "markdown",
   "id": "1d551ee5-8394-4b29-888c-670d78916e72",
   "metadata": {},
   "source": [
    "## 과제명 : 100 코호트를 이용한 IBD와 BE발생 영향 상관관계"
   ]
  },
  {
   "cell_type": "markdown",
   "id": "b5492754-3aac-47f7-b6d8-6b895951f155",
   "metadata": {},
   "source": [
    "- 의뢰처 : 충북대학교\n",
    "- 사용데이터 : 국민건겅보험공단 데이터"
   ]
  },
  {
   "cell_type": "markdown",
   "id": "04a597e6-2fe6-4ed2-a09e-1b320cf74d1a",
   "metadata": {},
   "source": [
    "## Visualization 1. Cumulative Incidence plot"
   ]
  },
  {
   "cell_type": "markdown",
   "id": "306a7339-8b45-4b78-9851-264290939962",
   "metadata": {},
   "source": [
    "- IBD가 있는 코호트와 없는 코호트 간의 BE가 발생하기까지의 Cumulative incidence 차이\n",
    "- 즉 염증성 장 질환이 있고 없고 여부에 따라 바렛식도가 발생할 누적 위험도가 다르게 나타나는지를 확인하는 것이 목적\n",
    "\n",
    "* IBD : 염증성 장질환 (Inflammatory bowel disease)\n",
    "* BE : 바렛식도 (Barrett's esophagus)"
   ]
  },
  {
   "cell_type": "code",
   "execution_count": 23,
   "id": "7137e221-b35d-417e-922f-f4085b5cb213",
   "metadata": {},
   "outputs": [],
   "source": [
    "library(tidyverse)\n",
    "library(readxl)"
   ]
  },
  {
   "cell_type": "code",
   "execution_count": null,
   "id": "21563a67-a851-45bd-93c9-83e2afea5d94",
   "metadata": {},
   "outputs": [],
   "source": [
    "setwd(\"G:/내 드라이브/취업/메디크로/plot\")"
   ]
  },
  {
   "cell_type": "code",
   "execution_count": 7,
   "id": "c2e21822-3588-4a05-8c80-1c7f7d16d0b0",
   "metadata": {},
   "outputs": [],
   "source": [
    "# female data import\n",
    "df <- read_excel(\"cifplot.xlsx\", sheet = \"female\")"
   ]
  },
  {
   "cell_type": "code",
   "execution_count": 9,
   "id": "cce40191-c05e-46db-bd96-adc49c20fdde",
   "metadata": {},
   "outputs": [
    {
     "data": {
      "text/html": [
       "<table class=\"dataframe\">\n",
       "<caption>A tibble: 6 × 4</caption>\n",
       "<thead>\n",
       "\t<tr><th scope=col>year</th><th scope=col>Incidence</th><th scope=col>Incidence_adj</th><th scope=col>IBD</th></tr>\n",
       "\t<tr><th scope=col>&lt;dbl&gt;</th><th scope=col>&lt;dbl&gt;</th><th scope=col>&lt;dbl&gt;</th><th scope=col>&lt;chr&gt;</th></tr>\n",
       "</thead>\n",
       "<tbody>\n",
       "\t<tr><td>0.000000</td><td>0.000000</td><td>  0.0</td><td>N</td></tr>\n",
       "\t<tr><td>1.000000</td><td>0.000763</td><td> 76.3</td><td>N</td></tr>\n",
       "\t<tr><td>1.084699</td><td>0.000839</td><td> 83.9</td><td>N</td></tr>\n",
       "\t<tr><td>1.163934</td><td>0.001140</td><td>114.0</td><td>N</td></tr>\n",
       "\t<tr><td>1.248634</td><td>0.001220</td><td>122.0</td><td>N</td></tr>\n",
       "\t<tr><td>1.330601</td><td>0.001830</td><td>183.0</td><td>N</td></tr>\n",
       "</tbody>\n",
       "</table>\n"
      ],
      "text/latex": [
       "A tibble: 6 × 4\n",
       "\\begin{tabular}{llll}\n",
       " year & Incidence & Incidence\\_adj & IBD\\\\\n",
       " <dbl> & <dbl> & <dbl> & <chr>\\\\\n",
       "\\hline\n",
       "\t 0.000000 & 0.000000 &   0.0 & N\\\\\n",
       "\t 1.000000 & 0.000763 &  76.3 & N\\\\\n",
       "\t 1.084699 & 0.000839 &  83.9 & N\\\\\n",
       "\t 1.163934 & 0.001140 & 114.0 & N\\\\\n",
       "\t 1.248634 & 0.001220 & 122.0 & N\\\\\n",
       "\t 1.330601 & 0.001830 & 183.0 & N\\\\\n",
       "\\end{tabular}\n"
      ],
      "text/markdown": [
       "\n",
       "A tibble: 6 × 4\n",
       "\n",
       "| year &lt;dbl&gt; | Incidence &lt;dbl&gt; | Incidence_adj &lt;dbl&gt; | IBD &lt;chr&gt; |\n",
       "|---|---|---|---|\n",
       "| 0.000000 | 0.000000 |   0.0 | N |\n",
       "| 1.000000 | 0.000763 |  76.3 | N |\n",
       "| 1.084699 | 0.000839 |  83.9 | N |\n",
       "| 1.163934 | 0.001140 | 114.0 | N |\n",
       "| 1.248634 | 0.001220 | 122.0 | N |\n",
       "| 1.330601 | 0.001830 | 183.0 | N |\n",
       "\n"
      ],
      "text/plain": [
       "  year     Incidence Incidence_adj IBD\n",
       "1 0.000000 0.000000    0.0         N  \n",
       "2 1.000000 0.000763   76.3         N  \n",
       "3 1.084699 0.000839   83.9         N  \n",
       "4 1.163934 0.001140  114.0         N  \n",
       "5 1.248634 0.001220  122.0         N  \n",
       "6 1.330601 0.001830  183.0         N  "
      ]
     },
     "metadata": {},
     "output_type": "display_data"
    }
   ],
   "source": [
    "head(df)"
   ]
  },
  {
   "cell_type": "code",
   "execution_count": 10,
   "id": "f914cbb5-b3f2-43fa-b48d-f8982c497050",
   "metadata": {},
   "outputs": [
    {
     "data": {
      "image/png": "[encoded data removed]",
      "text/plain": [
       "Plot with title \"Cumulative Incidence for Female\""
      ]
     },
     "metadata": {
      "image/png": {
       "height": 420,
       "width": 420
      }
     },
     "output_type": "display_data"
    }
   ],
   "source": [
    "######### female no adjustment#########\n",
    "# color 버전\n",
    "plot(df[df$IBD == \"N\",]$year, df[df$IBD == \"N\",]$Incidence, type = \"l\", col = 'blue',\n",
    "     xlab = \"Year\", ylab = \"Cumulative Incidence\", main = \"Cumulative Incidence for Female\", lwd = 1.5,\n",
    "     cex.axis=0.8)\n",
    "lines(df[df$IBD == \"Y\",]$year, df[df$IBD == \"Y\",]$Incidence, col = 'red', lwd = 1.5)\n",
    "legend(x = \"topleft\", legend = c(\"IBD = N\", \"IBD = Y\"), col = c(\"blue\", \"red\"), \n",
    "       lty = c(1,1),lwd = c(1.2, 1.2),cex = 0.8)"
   ]
  },
  {
   "cell_type": "code",
   "execution_count": 11,
   "id": "0af9e37e-0b22-4fba-957f-61744159db13",
   "metadata": {},
   "outputs": [
    {
     "data": {
      "image/png": "[encoded data removed]",
      "text/plain": [
       "Plot with title \"Cumulative Incidence for Female\""
      ]
     },
     "metadata": {
      "image/png": {
       "height": 420,
       "width": 420
      }
     },
     "output_type": "display_data"
    }
   ],
   "source": [
    "# 점선버전\n",
    "#png(\"female_ver1.png\",width=609,height=482,res=100)\n",
    "range <- c(min(df$Incidence) ,max(df$Incidence))\n",
    "plot(df[df$IBD == \"N\",]$year, df[df$IBD == \"N\",]$Incidence, type = \"l\", lty = 2,\n",
    "     xlab = \"Year\", ylab = \"Cumulative Incidence\", main = \"Cumulative Incidence for Female\", lwd = 1.5,\n",
    "     cex.axis=0.8, ylim = range)\n",
    "lines(df[df$IBD == \"Y\",]$year, df[df$IBD == \"Y\",]$Incidence,lwd = 1.5, lty = 1)\n",
    "legend(x = \"topleft\", legend = c(\"IBD = N\", \"IBD = Y\"), \n",
    "       lty = c(2,1),lwd = c(1.2, 1.2),cex = 0.8)\n",
    "text(x = 8.5, y = 0.002,                # First text\n",
    "     \"Grey's Test p=0.0019\", cex = 0.8)\n",
    "#dev.off()"
   ]
  },
  {
   "cell_type": "code",
   "execution_count": 12,
   "id": "f6509779-412d-40b8-8d5e-37ff8fdd221e",
   "metadata": {},
   "outputs": [],
   "source": [
    "# male data import"
   ]
  },
  {
   "cell_type": "code",
   "execution_count": 13,
   "id": "74875c43-77c1-4360-a82b-4b21ecba6a93",
   "metadata": {},
   "outputs": [
    {
     "data": {
      "text/html": [
       "<table class=\"dataframe\">\n",
       "<caption>A tibble: 6 × 4</caption>\n",
       "<thead>\n",
       "\t<tr><th scope=col>year</th><th scope=col>Incidence</th><th scope=col>Incidence_adj</th><th scope=col>IBD</th></tr>\n",
       "\t<tr><th scope=col>&lt;dbl&gt;</th><th scope=col>&lt;dbl&gt;</th><th scope=col>&lt;dbl&gt;</th><th scope=col>&lt;chr&gt;</th></tr>\n",
       "</thead>\n",
       "<tbody>\n",
       "\t<tr><td>0.000000</td><td>0.000000</td><td>  0.0</td><td>N</td></tr>\n",
       "\t<tr><td>1.000000</td><td>0.000232</td><td> 23.2</td><td>N</td></tr>\n",
       "\t<tr><td>1.084699</td><td>0.000618</td><td> 61.8</td><td>N</td></tr>\n",
       "\t<tr><td>1.163934</td><td>0.000927</td><td> 92.7</td><td>N</td></tr>\n",
       "\t<tr><td>1.248634</td><td>0.001240</td><td>124.0</td><td>N</td></tr>\n",
       "\t<tr><td>1.330601</td><td>0.001310</td><td>131.0</td><td>N</td></tr>\n",
       "</tbody>\n",
       "</table>\n"
      ],
      "text/latex": [
       "A tibble: 6 × 4\n",
       "\\begin{tabular}{llll}\n",
       " year & Incidence & Incidence\\_adj & IBD\\\\\n",
       " <dbl> & <dbl> & <dbl> & <chr>\\\\\n",
       "\\hline\n",
       "\t 0.000000 & 0.000000 &   0.0 & N\\\\\n",
       "\t 1.000000 & 0.000232 &  23.2 & N\\\\\n",
       "\t 1.084699 & 0.000618 &  61.8 & N\\\\\n",
       "\t 1.163934 & 0.000927 &  92.7 & N\\\\\n",
       "\t 1.248634 & 0.001240 & 124.0 & N\\\\\n",
       "\t 1.330601 & 0.001310 & 131.0 & N\\\\\n",
       "\\end{tabular}\n"
      ],
      "text/markdown": [
       "\n",
       "A tibble: 6 × 4\n",
       "\n",
       "| year &lt;dbl&gt; | Incidence &lt;dbl&gt; | Incidence_adj &lt;dbl&gt; | IBD &lt;chr&gt; |\n",
       "|---|---|---|---|\n",
       "| 0.000000 | 0.000000 |   0.0 | N |\n",
       "| 1.000000 | 0.000232 |  23.2 | N |\n",
       "| 1.084699 | 0.000618 |  61.8 | N |\n",
       "| 1.163934 | 0.000927 |  92.7 | N |\n",
       "| 1.248634 | 0.001240 | 124.0 | N |\n",
       "| 1.330601 | 0.001310 | 131.0 | N |\n",
       "\n"
      ],
      "text/plain": [
       "  year     Incidence Incidence_adj IBD\n",
       "1 0.000000 0.000000    0.0         N  \n",
       "2 1.000000 0.000232   23.2         N  \n",
       "3 1.084699 0.000618   61.8         N  \n",
       "4 1.163934 0.000927   92.7         N  \n",
       "5 1.248634 0.001240  124.0         N  \n",
       "6 1.330601 0.001310  131.0         N  "
      ]
     },
     "metadata": {},
     "output_type": "display_data"
    }
   ],
   "source": [
    "df <- read_excel(\"cifplot.xlsx\", sheet = \"male\")\n",
    "head(df)"
   ]
  },
  {
   "cell_type": "code",
   "execution_count": 14,
   "id": "6c3f84a8-512f-4ae3-8344-97cc544e10c3",
   "metadata": {},
   "outputs": [
    {
     "data": {
      "image/png": "[encoded data removed]",
      "text/plain": [
       "Plot with title \"Cumulative Incidence for Male\""
      ]
     },
     "metadata": {
      "image/png": {
       "height": 420,
       "width": 420
      }
     },
     "output_type": "display_data"
    }
   ],
   "source": [
    "######### male no adjustment ########\n",
    "# 점선버전1\n",
    "#png(\"male_ver1.png\",width=609,height=482,res=100)\n",
    "range <- c(min(df$Incidence) ,max(df$Incidence))\n",
    "plot(df[df$IBD == \"N\",]$year, df[df$IBD == \"N\",]$Incidence, type = \"l\", lty = 2,\n",
    "     xlab = \"Year\", ylab = \"Cumulative Incidence\", main = \"Cumulative Incidence for Male\", lwd = 1.5,\n",
    "     cex.axis=0.8, ylim = range)\n",
    "lines(df[df$IBD == \"Y\",]$year, df[df$IBD == \"Y\",]$Incidence,lwd = 1.5, lty = 1)\n",
    "legend(x = \"topleft\", legend = c(\"IBD = N\", \"IBD = Y\"), \n",
    "       lty = c(2,1),lwd = c(1.2, 1.2),cex = 0.8)\n",
    "text(x = 8.5, y = 0.002,                # First text\n",
    "     \"Grey's Test : p <.0001\", cex = 0.8)\n",
    "#dev.off()"
   ]
  },
  {
   "cell_type": "markdown",
   "id": "32e6a456-da42-4721-b065-618a27aeeb24",
   "metadata": {},
   "source": [
    "## Visualization 2. Bar plot with significance test result"
   ]
  },
  {
   "cell_type": "markdown",
   "id": "140a6a29-11e7-4a0c-b2e0-96c4f1e6f958",
   "metadata": {},
   "source": [
    "- IBD가 있는 코호트 중 BE가 있는 코호트와 없는 코호트 사이의 특정 사건 발생(ex. 사망, 응급실 방문)에 대한 Incidence rate의 차이\n",
    "- rate에 100,000을 곱해 10만명 당 발생 case로 환산하여 bar plot으로 비교\n",
    "- rate_ratio_test을 통한 두 Incidence rate의 차이 여부에 대한 p-value test 결과를 bar plot에 기재\n",
    "\n",
    "* Incidence rate : Number of case / (Total population at risk * follow-up year)"
   ]
  },
  {
   "cell_type": "code",
   "execution_count": 15,
   "id": "a26f4840-d365-4e08-83dc-b1960647fd0e",
   "metadata": {},
   "outputs": [],
   "source": [
    "library(ggsignif)"
   ]
  },
  {
   "cell_type": "code",
   "execution_count": 16,
   "id": "bf84c9ae-2f10-41cf-88a2-74d644a66e03",
   "metadata": {},
   "outputs": [
    {
     "data": {
      "image/png": "[encoded data removed]",
      "text/plain": [
       "plot without title"
      ]
     },
     "metadata": {
      "image/png": {
       "height": 420,
       "width": 420
      }
     },
     "output_type": "display_data"
    }
   ],
   "source": [
    "####### DTH_Y ##########\n",
    "\n",
    "py <- c(14012, 13481)\n",
    "gr1 <- c(\"All-cause mortality\")\n",
    "gr2 <- c('IBD patients without BE', 'IBD patients with BE')\n",
    "\n",
    "df <- data.frame(py, gr1, gr2)\n",
    "\n",
    "p <- ggplot(df, aes(x = gr1, y = py, color =gr2)) + geom_bar(stat='identity', aes(fill = gr2), width =0.5,\n",
    "                                                              position=position_dodge(0.7)) + \n",
    "  scale_y_continuous(labels = scales::comma,limits = c(0,16000),\n",
    "                     expand = expansion(mult = c(0, 0.05))) + theme_classic() +\n",
    "  scale_fill_manual(values=c(\"white\", \"black\"))+\n",
    "  scale_color_manual(values=c(\"black\", \"black\") ) +\n",
    "  ylab(\"Cases per 100,000PY\") +\n",
    "  xlab(\" \")+\n",
    "  scale_x_discrete(labels='All-cause mortality')+\n",
    "  theme(axis.ticks.x = element_blank(), axis.ticks.y = element_blank(),legend.title = element_blank(),\n",
    "        legend.position = \"bottom\", axis.title.y = element_text(size = 9),\n",
    "        plot.title = element_text(face=\"bold\")) +\n",
    "  labs(title = \"A\")\n",
    "\n",
    "\n",
    "p_dth <- p + geom_signif(map_signif_level = FALSE,\n",
    "                   annotations = c(\"NS.\"),\n",
    "                   y_position = 16000*0.95, xmin = 0.82, xmax = 1.2,\n",
    "                   tip_length = c(2, 1),\n",
    "                   textsize = 3,\n",
    "                   vjust = -0.7)\n",
    "p_dth\n"
   ]
  },
  {
   "cell_type": "code",
   "execution_count": 17,
   "id": "dfc1ad45-84f7-4de0-a932-d3b3e1ed9ec3",
   "metadata": {},
   "outputs": [
    {
     "data": {
      "image/png": "[encoded data removed]",
      "text/plain": [
       "plot without title"
      ]
     },
     "metadata": {
      "image/png": {
       "height": 420,
       "width": 420
      }
     },
     "output_type": "display_data"
    }
   ],
   "source": [
    "####### ALL_HSP_Y & All_ED_Y ##########\n",
    "\n",
    "py <- c(20460, 19600,33202, 37640)\n",
    "gr1 <- c(\"all_ed\", \"all_ed\", \"all_hp\", \"all_hp\")\n",
    "gr2 <- c('IBD patients without BE', 'IBD patients with BE', 'IBD patients without BE', 'IBD patients with BE')\n",
    "\n",
    "df <- data.frame(py, gr1, gr2)\n",
    "\n",
    "p <- ggplot(df, aes(x = gr1, y = py, fill = gr2, color = gr2)) +\n",
    "  geom_bar(stat = 'identity', width = 0.5, position = position_dodge(0.7)) +\n",
    "  scale_y_continuous(labels = scales::comma, limits = c(0, 44000), expand = c(0, 0.05)) +\n",
    "  theme_classic() +\n",
    "  scale_fill_manual(values = c(\"white\", \"black\")) +\n",
    "  scale_color_manual(values = c(\"black\", \"black\")) +\n",
    "  ylab(\"Cases per 100,000PY\") +\n",
    "  xlab(\" \") +\n",
    "  scale_x_discrete(labels = c('All-cause ED visit', 'All-cause\\nHospitalization')) +\n",
    "  theme(axis.ticks.x = element_blank(), axis.ticks.y = element_blank(),legend.title = element_blank(),\n",
    "        legend.position = \"bottom\", axis.title.y = element_text(size = 9),\n",
    "        plot.title = element_text(face=\"bold\")) + \n",
    "  labs(title = \"B\")\n",
    "\n",
    "p_all <- p + geom_signif(y_position = c(22800, 39800), xmin = c(0.83, 1.82), \n",
    "                xmax = c(1.2, 2.2), annotation = c(\"NS.\",\"NS.\"),\n",
    "                tip_length = c( 0.1, 0.06,0.05,0.3),\n",
    "                textsize =3,\n",
    "                vjust = -0.7)\n",
    "p_all\n"
   ]
  },
  {
   "cell_type": "code",
   "execution_count": 18,
   "id": "ee0b1d6e-fde7-4ebd-8dd3-9010d69c92d4",
   "metadata": {},
   "outputs": [
    {
     "data": {
      "image/png": "[encoded data removed]",
      "text/plain": [
       "plot without title"
      ]
     },
     "metadata": {
      "image/png": {
       "height": 420,
       "width": 420
      }
     },
     "output_type": "display_data"
    }
   ],
   "source": [
    "####### RES_HSP_Y & RES_ED_Y ##########\n",
    "\n",
    "py <- c(18953, 16584,29351, 23505)\n",
    "gr1 <- c(\"res_ed\", \"res_ed\", \"res_hp\", \"res_hp\")\n",
    "gr2 <- c('IBD patients without BE', 'IBD patients with BE', 'IBD patients without BE', 'IBD patients with BE')\n",
    "\n",
    "df <- data.frame(py, gr1, gr2)\n",
    "\n",
    "p <- ggplot(df, aes(x = gr1, y = py, fill = gr2, color = gr2)) +\n",
    "  geom_bar(stat = 'identity', width = 0.5, position = position_dodge(0.7)) +\n",
    "  scale_y_continuous(labels = scales::comma, limits = c(0, 34000), expand = c(0, 0.05)) +\n",
    "  theme_classic() +\n",
    "  scale_fill_manual(values = c(\"white\", \"black\")) +\n",
    "  scale_color_manual(values = c(\"black\", \"black\")) +\n",
    "  ylab(\"Cases per 100,000PY\") +\n",
    "  xlab(\" \") +\n",
    "  scale_x_discrete(labels = c('All-cause ED visit', 'All-cause\\nHospitalization')) +\n",
    "  theme(axis.ticks.x = element_blank(), axis.ticks.y = element_blank(),legend.title = element_blank(),\n",
    "        legend.position = \"bottom\", axis.title.y = element_text(size = 9),\n",
    "        plot.title = element_text(face=\"bold\")) + \n",
    "  labs(title = \"C\")\n",
    "\n",
    "\n",
    "p_res <- p + geom_signif(y_position = c(20900, 31000), xmin = c(0.83, 1.82), \n",
    "                         xmax = c(1.2, 2.2), annotation = c(\"NS.\",\"p <.05\"),\n",
    "                         tip_length = c(0.27, 0.09,0.52, 0.08 ),\n",
    "                         textsize = 3,\n",
    "                         vjust = -0.7)\n",
    "p_res"
   ]
  },
  {
   "cell_type": "code",
   "execution_count": 19,
   "id": "1f54bbe5-e8ba-40c4-93c7-5e52ab0eded7",
   "metadata": {},
   "outputs": [
    {
     "data": {
      "image/png": "[encoded data removed]",
      "text/plain": [
       "plot without title"
      ]
     },
     "metadata": {
      "image/png": {
       "height": 420,
       "width": 420
      }
     },
     "output_type": "display_data"
    }
   ],
   "source": [
    "####### IBD_HSP_Y & IBD_ED_Y ##########\n",
    "\n",
    "py <- c(18570, 19499,20681, 20909)\n",
    "gr1 <- c(\"ibd_ed\", \"ibd_ed\", \"ibd_hp\", \"ibd_hp\")\n",
    "gr2 <- c('IBD patients without BE', 'IBD patients with BE', 'IBD patients without BE', 'IBD patients with BE')\n",
    "\n",
    "df <- data.frame(py, gr1, gr2)\n",
    "\n",
    "p <- ggplot(df, aes(x = gr1, y = py, fill = gr2, color = gr2)) +\n",
    "  geom_bar(stat = 'identity', width = 0.5, position = position_dodge(0.7)) +\n",
    "  scale_y_continuous(labels = scales::comma, limits = c(0, 24000), expand = c(0, 0.05)) +\n",
    "  theme_classic() +\n",
    "  scale_fill_manual(values = c(\"white\", \"black\")) +\n",
    "  scale_color_manual(values = c(\"black\", \"black\")) +\n",
    "  ylab(\"Cases per 100,000PY\") +\n",
    "  xlab(\" \") +\n",
    "  scale_x_discrete(labels = c('All-cause ED visit', 'All-cause\\nHospitalization')) +\n",
    "  theme(axis.ticks.x = element_blank(), axis.ticks.y = element_blank(),legend.title = element_blank(),\n",
    "        legend.position = \"bottom\", axis.title.y = element_text(size = 9),\n",
    "        plot.title = element_text(face=\"bold\")) + \n",
    "  labs(title = \"D\")\n",
    "\n",
    "\n",
    "p_ibd <- p + geom_signif(y_position = c(20900, 22000), xmin = c(0.83, 1.82), \n",
    "                         xmax = c(1.2, 2.2), annotation = c(\"NS.\",\"NS.\"),\n",
    "                         tip_length = c(0.3, 0.7, 0.2, 0.3),\n",
    "                         textsize = 3,\n",
    "                         vjust = -0.7)\n",
    "p_ibd\n"
   ]
  },
  {
   "cell_type": "code",
   "execution_count": 22,
   "id": "1984bd03-123e-44aa-96de-23d9b262603f",
   "metadata": {},
   "outputs": [
    {
     "data": {
      "image/png": "[encoded data removed]",
      "text/plain": [
       "plot without title"
      ]
     },
     "metadata": {
      "image/png": {
       "height": 360,
       "width": 900
      }
     },
     "output_type": "display_data"
    }
   ],
   "source": [
    "library(patchwork)\n",
    "library(repr)\n",
    "options(repr.plot.width=15, repr.plot.height=6)\n",
    "# Combine plots and share legend\n",
    "combined_plot <- p_dth + p_all + p_res + p_ibd + plot_layout(guides = \"collect\", ncol=4) & theme(legend.position = 'bottom')\n",
    "# Display the combined plot\n",
    "print(combined_plot)"
   ]
  },
  {
   "cell_type": "code",
   "execution_count": null,
   "id": "69ade1d5-bc89-4ee4-895e-0f3537e147f4",
   "metadata": {},
   "outputs": [],
   "source": []
  }
 ],
 "metadata": {
  "kernelspec": {
   "display_name": "R",
   "language": "R",
   "name": "ir"
  },
  "language_info": {
   "codemirror_mode": "r",
   "file_extension": ".r",
   "mimetype": "text/x-r-source",
   "name": "R",
   "pygments_lexer": "r",
   "version": "4.2.2"
  }
 },
 "nbformat": 4,
 "nbformat_minor": 5
}
