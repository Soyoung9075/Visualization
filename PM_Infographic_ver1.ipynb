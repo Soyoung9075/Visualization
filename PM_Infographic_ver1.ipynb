{
 "cells": [
  {
   "cell_type": "code",
   "execution_count": 1,
   "metadata": {},
   "outputs": [],
   "source": [
    "import numpy as np\n",
    "import pandas as pd\n",
    "import matplotlib.pyplot as plt\n",
    "import matplotlib.patches as mpatches\n",
    "\n",
    "from matplotlib import font_manager, rc\n",
    "font_path = 'C:/Windows/Fonts/malgun.ttf'\n",
    "font = font_manager.FontProperties(fname = font_path).get_name()\n",
    "rc('font', family = font)"
   ]
  },
  {
   "cell_type": "code",
   "execution_count": 2,
   "metadata": {},
   "outputs": [
    {
     "name": "stdout",
     "output_type": "stream",
     "text": [
      "time : 13.49541163444519\n"
     ]
    }
   ],
   "source": [
    "import time\n",
    "start = time.time()  # 시작 시간 저장\n",
    "\n",
    "df = pd.read_csv(\"C:/Users/Soyoung Han/Dropbox/미세먼지건강영향평가/p3 분석용 파일/p3_merge_final_2.csv\")\n",
    "df\n",
    "\n",
    "print(\"time :\", time.time() - start)  # 현재시각 - 시작시간 = 실행 시간\n",
    "\n",
    "# 약 13초 소요"
   ]
  },
  {
   "cell_type": "code",
   "execution_count": 2,
   "metadata": {},
   "outputs": [
    {
     "name": "stdout",
     "output_type": "stream",
     "text": [
      "Requirement already satisfied: pyarrow in c:\\users\\soyoung han\\anaconda3\\lib\\site-packages (11.0.0)\n",
      "Requirement already satisfied: numpy>=1.16.6 in c:\\users\\soyoung han\\anaconda3\\lib\\site-packages (from pyarrow) (1.21.5)\n",
      "Note: you may need to restart the kernel to use updated packages.\n"
     ]
    }
   ],
   "source": [
    "pip install pyarrow"
   ]
  },
  {
   "cell_type": "code",
   "execution_count": 3,
   "metadata": {},
   "outputs": [
    {
     "name": "stdout",
     "output_type": "stream",
     "text": [
      "time : 3.223031759262085\n"
     ]
    }
   ],
   "source": [
    "# 대용량 데이터 불러오기 # 약 3초 소요\n",
    "\n",
    "from pyarrow import csv\n",
    "\n",
    "import time\n",
    "start = time.time() \n",
    "\n",
    "df = csv.read_csv('C:/Users/Soyoung Han/Dropbox/미세먼지건강영향평가/p3 분석용 파일/p3_merge_final_2.csv').to_pandas()\n",
    "\n",
    "print(\"time :\", time.time() - start)  # 현재시각 - 시작시간 = 실행 시간"
   ]
  },
  {
   "cell_type": "code",
   "execution_count": 4,
   "metadata": {},
   "outputs": [
    {
     "data": {
      "text/html": [
       "<div>\n",
       "<style scoped>\n",
       "    .dataframe tbody tr th:only-of-type {\n",
       "        vertical-align: middle;\n",
       "    }\n",
       "\n",
       "    .dataframe tbody tr th {\n",
       "        vertical-align: top;\n",
       "    }\n",
       "\n",
       "    .dataframe thead th {\n",
       "        text-align: right;\n",
       "    }\n",
       "</style>\n",
       "<table border=\"1\" class=\"dataframe\">\n",
       "  <thead>\n",
       "    <tr style=\"text-align: right;\">\n",
       "      <th></th>\n",
       "      <th>FilterID</th>\n",
       "      <th>PID</th>\n",
       "      <th>UPSN</th>\n",
       "      <th>Platfm</th>\n",
       "      <th>Time___Time_</th>\n",
       "      <th>rawneph</th>\n",
       "      <th>corneph</th>\n",
       "      <th>Temp</th>\n",
       "      <th>RH</th>\n",
       "      <th>date</th>\n",
       "      <th>month</th>\n",
       "      <th>year</th>\n",
       "      <th>season</th>\n",
       "      <th>day</th>\n",
       "      <th>time</th>\n",
       "      <th>hour</th>\n",
       "      <th>weekday</th>\n",
       "    </tr>\n",
       "  </thead>\n",
       "  <tbody>\n",
       "    <tr>\n",
       "      <th>0</th>\n",
       "      <td>KSN1668</td>\n",
       "      <td>004-002</td>\n",
       "      <td>MTL1010037</td>\n",
       "      <td>I</td>\n",
       "      <td>1:48:10</td>\n",
       "      <td>8.377</td>\n",
       "      <td>7.815731</td>\n",
       "      <td>26.10</td>\n",
       "      <td>41.7</td>\n",
       "      <td>2021-11-16</td>\n",
       "      <td>11.0</td>\n",
       "      <td>2021.0</td>\n",
       "      <td>Fall</td>\n",
       "      <td>16.0</td>\n",
       "      <td>01:48:10</td>\n",
       "      <td>1</td>\n",
       "      <td>화요일</td>\n",
       "    </tr>\n",
       "    <tr>\n",
       "      <th>1</th>\n",
       "      <td>KSN1668</td>\n",
       "      <td>004-002</td>\n",
       "      <td>MTL1010037</td>\n",
       "      <td>I</td>\n",
       "      <td>1:52:10</td>\n",
       "      <td>8.412</td>\n",
       "      <td>7.848386</td>\n",
       "      <td>26.10</td>\n",
       "      <td>40.7</td>\n",
       "      <td>2021-11-16</td>\n",
       "      <td>11.0</td>\n",
       "      <td>2021.0</td>\n",
       "      <td>Fall</td>\n",
       "      <td>16.0</td>\n",
       "      <td>01:52:10</td>\n",
       "      <td>1</td>\n",
       "      <td>화요일</td>\n",
       "    </tr>\n",
       "    <tr>\n",
       "      <th>2</th>\n",
       "      <td>KSN1668</td>\n",
       "      <td>004-002</td>\n",
       "      <td>MTL1010037</td>\n",
       "      <td>I</td>\n",
       "      <td>1:47:30</td>\n",
       "      <td>8.398</td>\n",
       "      <td>7.835324</td>\n",
       "      <td>25.95</td>\n",
       "      <td>41.1</td>\n",
       "      <td>2021-11-16</td>\n",
       "      <td>11.0</td>\n",
       "      <td>2021.0</td>\n",
       "      <td>Fall</td>\n",
       "      <td>16.0</td>\n",
       "      <td>01:47:30</td>\n",
       "      <td>1</td>\n",
       "      <td>화요일</td>\n",
       "    </tr>\n",
       "    <tr>\n",
       "      <th>3</th>\n",
       "      <td>KSN1668</td>\n",
       "      <td>004-002</td>\n",
       "      <td>MTL1010037</td>\n",
       "      <td>I</td>\n",
       "      <td>1:51:30</td>\n",
       "      <td>2.804</td>\n",
       "      <td>2.616129</td>\n",
       "      <td>26.00</td>\n",
       "      <td>40.7</td>\n",
       "      <td>2021-11-16</td>\n",
       "      <td>11.0</td>\n",
       "      <td>2021.0</td>\n",
       "      <td>Fall</td>\n",
       "      <td>16.0</td>\n",
       "      <td>01:51:30</td>\n",
       "      <td>1</td>\n",
       "      <td>화요일</td>\n",
       "    </tr>\n",
       "    <tr>\n",
       "      <th>4</th>\n",
       "      <td>KSN1668</td>\n",
       "      <td>004-002</td>\n",
       "      <td>MTL1010037</td>\n",
       "      <td>I</td>\n",
       "      <td>21:16:30</td>\n",
       "      <td>5.579</td>\n",
       "      <td>5.205200</td>\n",
       "      <td>26.20</td>\n",
       "      <td>41.9</td>\n",
       "      <td>2021-11-15</td>\n",
       "      <td>11.0</td>\n",
       "      <td>2021.0</td>\n",
       "      <td>Fall</td>\n",
       "      <td>15.0</td>\n",
       "      <td>21:16:30</td>\n",
       "      <td>21</td>\n",
       "      <td>월요일</td>\n",
       "    </tr>\n",
       "    <tr>\n",
       "      <th>...</th>\n",
       "      <td>...</td>\n",
       "      <td>...</td>\n",
       "      <td>...</td>\n",
       "      <td>...</td>\n",
       "      <td>...</td>\n",
       "      <td>...</td>\n",
       "      <td>...</td>\n",
       "      <td>...</td>\n",
       "      <td>...</td>\n",
       "      <td>...</td>\n",
       "      <td>...</td>\n",
       "      <td>...</td>\n",
       "      <td>...</td>\n",
       "      <td>...</td>\n",
       "      <td>...</td>\n",
       "      <td>...</td>\n",
       "      <td>...</td>\n",
       "    </tr>\n",
       "    <tr>\n",
       "      <th>7302981</th>\n",
       "      <td>KSN1729</td>\n",
       "      <td>030-002</td>\n",
       "      <td>MTL1010037</td>\n",
       "      <td>I</td>\n",
       "      <td>2:49:10</td>\n",
       "      <td>19.905</td>\n",
       "      <td>27.136020</td>\n",
       "      <td>32.60</td>\n",
       "      <td>67.8</td>\n",
       "      <td>2021-08-31</td>\n",
       "      <td>8.0</td>\n",
       "      <td>2021.0</td>\n",
       "      <td>Summer</td>\n",
       "      <td>31.0</td>\n",
       "      <td>02:49:10</td>\n",
       "      <td>2</td>\n",
       "      <td>화요일</td>\n",
       "    </tr>\n",
       "    <tr>\n",
       "      <th>7302982</th>\n",
       "      <td>KSN1729</td>\n",
       "      <td>030-002</td>\n",
       "      <td>MTL1010037</td>\n",
       "      <td>I</td>\n",
       "      <td>2:49:20</td>\n",
       "      <td>22.210</td>\n",
       "      <td>29.925376</td>\n",
       "      <td>32.60</td>\n",
       "      <td>67.5</td>\n",
       "      <td>2021-08-31</td>\n",
       "      <td>8.0</td>\n",
       "      <td>2021.0</td>\n",
       "      <td>Summer</td>\n",
       "      <td>31.0</td>\n",
       "      <td>02:49:20</td>\n",
       "      <td>2</td>\n",
       "      <td>화요일</td>\n",
       "    </tr>\n",
       "    <tr>\n",
       "      <th>7302983</th>\n",
       "      <td>KSN1729</td>\n",
       "      <td>030-002</td>\n",
       "      <td>MTL1010037</td>\n",
       "      <td>I</td>\n",
       "      <td>2:49:30</td>\n",
       "      <td>11.125</td>\n",
       "      <td>16.511053</td>\n",
       "      <td>32.60</td>\n",
       "      <td>67.4</td>\n",
       "      <td>2021-08-31</td>\n",
       "      <td>8.0</td>\n",
       "      <td>2021.0</td>\n",
       "      <td>Summer</td>\n",
       "      <td>31.0</td>\n",
       "      <td>02:49:30</td>\n",
       "      <td>2</td>\n",
       "      <td>화요일</td>\n",
       "    </tr>\n",
       "    <tr>\n",
       "      <th>7302984</th>\n",
       "      <td>KSN1729</td>\n",
       "      <td>030-002</td>\n",
       "      <td>MTL1010037</td>\n",
       "      <td>I</td>\n",
       "      <td>2:50:10</td>\n",
       "      <td>15.510</td>\n",
       "      <td>21.817486</td>\n",
       "      <td>32.60</td>\n",
       "      <td>67.7</td>\n",
       "      <td>2021-08-31</td>\n",
       "      <td>8.0</td>\n",
       "      <td>2021.0</td>\n",
       "      <td>Summer</td>\n",
       "      <td>31.0</td>\n",
       "      <td>02:50:10</td>\n",
       "      <td>2</td>\n",
       "      <td>화요일</td>\n",
       "    </tr>\n",
       "    <tr>\n",
       "      <th>7302985</th>\n",
       "      <td>KSN1729</td>\n",
       "      <td>030-002</td>\n",
       "      <td>MTL1010037</td>\n",
       "      <td>I</td>\n",
       "      <td>2:50:20</td>\n",
       "      <td>17.800</td>\n",
       "      <td>24.588690</td>\n",
       "      <td>NaN</td>\n",
       "      <td>67.4</td>\n",
       "      <td>2021-08-31</td>\n",
       "      <td>8.0</td>\n",
       "      <td>2021.0</td>\n",
       "      <td>Summer</td>\n",
       "      <td>31.0</td>\n",
       "      <td>02:50:20</td>\n",
       "      <td>2</td>\n",
       "      <td>화요일</td>\n",
       "    </tr>\n",
       "  </tbody>\n",
       "</table>\n",
       "<p>7302986 rows × 17 columns</p>\n",
       "</div>"
      ],
      "text/plain": [
       "        FilterID      PID        UPSN Platfm Time___Time_  rawneph    corneph  \\\n",
       "0        KSN1668  004-002  MTL1010037      I      1:48:10    8.377   7.815731   \n",
       "1        KSN1668  004-002  MTL1010037      I      1:52:10    8.412   7.848386   \n",
       "2        KSN1668  004-002  MTL1010037      I      1:47:30    8.398   7.835324   \n",
       "3        KSN1668  004-002  MTL1010037      I      1:51:30    2.804   2.616129   \n",
       "4        KSN1668  004-002  MTL1010037      I     21:16:30    5.579   5.205200   \n",
       "...          ...      ...         ...    ...          ...      ...        ...   \n",
       "7302981  KSN1729  030-002  MTL1010037      I      2:49:10   19.905  27.136020   \n",
       "7302982  KSN1729  030-002  MTL1010037      I      2:49:20   22.210  29.925376   \n",
       "7302983  KSN1729  030-002  MTL1010037      I      2:49:30   11.125  16.511053   \n",
       "7302984  KSN1729  030-002  MTL1010037      I      2:50:10   15.510  21.817486   \n",
       "7302985  KSN1729  030-002  MTL1010037      I      2:50:20   17.800  24.588690   \n",
       "\n",
       "          Temp    RH        date  month    year  season   day      time  hour  \\\n",
       "0        26.10  41.7  2021-11-16   11.0  2021.0    Fall  16.0  01:48:10     1   \n",
       "1        26.10  40.7  2021-11-16   11.0  2021.0    Fall  16.0  01:52:10     1   \n",
       "2        25.95  41.1  2021-11-16   11.0  2021.0    Fall  16.0  01:47:30     1   \n",
       "3        26.00  40.7  2021-11-16   11.0  2021.0    Fall  16.0  01:51:30     1   \n",
       "4        26.20  41.9  2021-11-15   11.0  2021.0    Fall  15.0  21:16:30    21   \n",
       "...        ...   ...         ...    ...     ...     ...   ...       ...   ...   \n",
       "7302981  32.60  67.8  2021-08-31    8.0  2021.0  Summer  31.0  02:49:10     2   \n",
       "7302982  32.60  67.5  2021-08-31    8.0  2021.0  Summer  31.0  02:49:20     2   \n",
       "7302983  32.60  67.4  2021-08-31    8.0  2021.0  Summer  31.0  02:49:30     2   \n",
       "7302984  32.60  67.7  2021-08-31    8.0  2021.0  Summer  31.0  02:50:10     2   \n",
       "7302985    NaN  67.4  2021-08-31    8.0  2021.0  Summer  31.0  02:50:20     2   \n",
       "\n",
       "        weekday  \n",
       "0           화요일  \n",
       "1           화요일  \n",
       "2           화요일  \n",
       "3           화요일  \n",
       "4           월요일  \n",
       "...         ...  \n",
       "7302981     화요일  \n",
       "7302982     화요일  \n",
       "7302983     화요일  \n",
       "7302984     화요일  \n",
       "7302985     화요일  \n",
       "\n",
       "[7302986 rows x 17 columns]"
      ]
     },
     "execution_count": 4,
     "metadata": {},
     "output_type": "execute_result"
    }
   ],
   "source": [
    "df"
   ]
  },
  {
   "cell_type": "code",
   "execution_count": 5,
   "metadata": {},
   "outputs": [
    {
     "name": "stdout",
     "output_type": "stream",
     "text": [
      "<class 'pandas.core.frame.DataFrame'>\n",
      "RangeIndex: 7302986 entries, 0 to 7302985\n",
      "Data columns (total 17 columns):\n",
      " #   Column        Dtype  \n",
      "---  ------        -----  \n",
      " 0   FilterID      object \n",
      " 1   PID           object \n",
      " 2   UPSN          object \n",
      " 3   Platfm        object \n",
      " 4   Time___Time_  object \n",
      " 5   rawneph       float64\n",
      " 6   corneph       float64\n",
      " 7   Temp          float64\n",
      " 8   RH            float64\n",
      " 9   date          object \n",
      " 10  month         float64\n",
      " 11  year          float64\n",
      " 12  season        object \n",
      " 13  day           float64\n",
      " 14  time          object \n",
      " 15  hour          int64  \n",
      " 16  weekday       object \n",
      "dtypes: float64(7), int64(1), object(9)\n",
      "memory usage: 947.2+ MB\n"
     ]
    }
   ],
   "source": [
    "df.info()"
   ]
  },
  {
   "cell_type": "code",
   "execution_count": 15,
   "metadata": {},
   "outputs": [
    {
     "data": {
      "text/plain": [
       "array(['Fall', 'Summer', 'Winter', 'Spring'], dtype=object)"
      ]
     },
     "execution_count": 15,
     "metadata": {},
     "output_type": "execute_result"
    }
   ],
   "source": [
    "# PID 004-003 : 4계절 모두 측정값 존재 \n",
    "# 이 환자는 실외 측정값 없음\n",
    "\n",
    "df[df[\"PID\"] == \"004-003\"][\"season\"].unique()"
   ]
  },
  {
   "cell_type": "code",
   "execution_count": 16,
   "metadata": {},
   "outputs": [
    {
     "name": "stdout",
     "output_type": "stream",
     "text": [
      "Fall : [datetime.date(2021, 11, 26) datetime.date(2021, 11, 29)\n",
      " datetime.date(2021, 11, 27) datetime.date(2021, 11, 28)\n",
      " datetime.date(2021, 11, 30)] ['금요일' '월요일' '토요일' '일요일' '화요일']\n",
      "Summer : [datetime.date(2021, 8, 27) datetime.date(2021, 8, 28)\n",
      " datetime.date(2021, 8, 26) datetime.date(2021, 8, 30)\n",
      " datetime.date(2021, 8, 29)] ['금요일' '토요일' '목요일' '월요일' '일요일']\n",
      "Winter : [datetime.date(2022, 2, 21) datetime.date(2022, 2, 22)\n",
      " datetime.date(2022, 2, 23) datetime.date(2022, 2, 19)\n",
      " datetime.date(2022, 2, 18) datetime.date(2022, 2, 20)] ['월요일' '화요일' '수요일' '토요일' '금요일' '일요일']\n",
      "Spring : [datetime.date(2022, 5, 20) datetime.date(2022, 5, 21)\n",
      " datetime.date(2022, 5, 22) datetime.date(2022, 5, 23)\n",
      " datetime.date(2022, 5, 24) datetime.date(2022, 5, 25)] ['금요일' '토요일' '일요일' '월요일' '화요일' '수요일']\n"
     ]
    }
   ],
   "source": [
    "# PID 004-003 각 계절별 측정일자 확인\n",
    "\n",
    "season_list = ['Fall', 'Summer', 'Winter', 'Spring']\n",
    "\n",
    "for i in range(len(season_list)):\n",
    "    date = df[(df[\"PID\"] == \"004-003\") & (df[\"season\"] == season_list[i])][\"date\"].unique()\n",
    "    weekday = df[(df[\"PID\"] == \"004-003\") & (df[\"season\"] == season_list[i])][\"weekday\"].unique()\n",
    "    print(\"{} : {} {}\".format(season_list[i], date, weekday))\n",
    "\n",
    "\n",
    "# 계절별로 측정 일자 수와 요일이 모두 일치하지는 않음. \n",
    "# 계절별로 보여주는 수밖에 없음. "
   ]
  },
  {
   "cell_type": "code",
   "execution_count": null,
   "metadata": {},
   "outputs": [],
   "source": [
    "# 계절별로 pm2.5농도 요일별 평균 bar chart 그리기\n",
    "# x축은 요일. title에 측정기간 기재하기 "
   ]
  },
  {
   "cell_type": "code",
   "execution_count": 6,
   "metadata": {},
   "outputs": [
    {
     "data": {
      "text/html": [
       "<div>\n",
       "<style scoped>\n",
       "    .dataframe tbody tr th:only-of-type {\n",
       "        vertical-align: middle;\n",
       "    }\n",
       "\n",
       "    .dataframe tbody tr th {\n",
       "        vertical-align: top;\n",
       "    }\n",
       "\n",
       "    .dataframe thead th {\n",
       "        text-align: right;\n",
       "    }\n",
       "</style>\n",
       "<table border=\"1\" class=\"dataframe\">\n",
       "  <thead>\n",
       "    <tr style=\"text-align: right;\">\n",
       "      <th></th>\n",
       "      <th>season</th>\n",
       "      <th>date</th>\n",
       "      <th>weekday</th>\n",
       "      <th>corneph</th>\n",
       "    </tr>\n",
       "  </thead>\n",
       "  <tbody>\n",
       "    <tr>\n",
       "      <th>0</th>\n",
       "      <td>Fall</td>\n",
       "      <td>2021-11-26</td>\n",
       "      <td>금요일</td>\n",
       "      <td>12.287290</td>\n",
       "    </tr>\n",
       "    <tr>\n",
       "      <th>1</th>\n",
       "      <td>Fall</td>\n",
       "      <td>2021-11-27</td>\n",
       "      <td>토요일</td>\n",
       "      <td>78.180280</td>\n",
       "    </tr>\n",
       "    <tr>\n",
       "      <th>2</th>\n",
       "      <td>Fall</td>\n",
       "      <td>2021-11-28</td>\n",
       "      <td>일요일</td>\n",
       "      <td>153.413740</td>\n",
       "    </tr>\n",
       "    <tr>\n",
       "      <th>3</th>\n",
       "      <td>Fall</td>\n",
       "      <td>2021-11-29</td>\n",
       "      <td>월요일</td>\n",
       "      <td>59.855689</td>\n",
       "    </tr>\n",
       "    <tr>\n",
       "      <th>4</th>\n",
       "      <td>Fall</td>\n",
       "      <td>2021-11-30</td>\n",
       "      <td>화요일</td>\n",
       "      <td>313.447231</td>\n",
       "    </tr>\n",
       "    <tr>\n",
       "      <th>5</th>\n",
       "      <td>Spring</td>\n",
       "      <td>2022-05-20</td>\n",
       "      <td>금요일</td>\n",
       "      <td>7.892161</td>\n",
       "    </tr>\n",
       "    <tr>\n",
       "      <th>6</th>\n",
       "      <td>Spring</td>\n",
       "      <td>2022-05-21</td>\n",
       "      <td>토요일</td>\n",
       "      <td>14.156499</td>\n",
       "    </tr>\n",
       "    <tr>\n",
       "      <th>7</th>\n",
       "      <td>Spring</td>\n",
       "      <td>2022-05-22</td>\n",
       "      <td>일요일</td>\n",
       "      <td>17.269618</td>\n",
       "    </tr>\n",
       "    <tr>\n",
       "      <th>8</th>\n",
       "      <td>Spring</td>\n",
       "      <td>2022-05-23</td>\n",
       "      <td>월요일</td>\n",
       "      <td>29.370114</td>\n",
       "    </tr>\n",
       "    <tr>\n",
       "      <th>9</th>\n",
       "      <td>Spring</td>\n",
       "      <td>2022-05-24</td>\n",
       "      <td>화요일</td>\n",
       "      <td>9.720066</td>\n",
       "    </tr>\n",
       "    <tr>\n",
       "      <th>10</th>\n",
       "      <td>Spring</td>\n",
       "      <td>2022-05-25</td>\n",
       "      <td>수요일</td>\n",
       "      <td>6.641884</td>\n",
       "    </tr>\n",
       "    <tr>\n",
       "      <th>11</th>\n",
       "      <td>Summer</td>\n",
       "      <td>2021-08-26</td>\n",
       "      <td>목요일</td>\n",
       "      <td>30.641082</td>\n",
       "    </tr>\n",
       "    <tr>\n",
       "      <th>12</th>\n",
       "      <td>Summer</td>\n",
       "      <td>2021-08-27</td>\n",
       "      <td>금요일</td>\n",
       "      <td>13.115059</td>\n",
       "    </tr>\n",
       "    <tr>\n",
       "      <th>13</th>\n",
       "      <td>Summer</td>\n",
       "      <td>2021-08-28</td>\n",
       "      <td>토요일</td>\n",
       "      <td>18.288764</td>\n",
       "    </tr>\n",
       "    <tr>\n",
       "      <th>14</th>\n",
       "      <td>Summer</td>\n",
       "      <td>2021-08-29</td>\n",
       "      <td>일요일</td>\n",
       "      <td>19.060577</td>\n",
       "    </tr>\n",
       "    <tr>\n",
       "      <th>15</th>\n",
       "      <td>Summer</td>\n",
       "      <td>2021-08-30</td>\n",
       "      <td>월요일</td>\n",
       "      <td>17.734647</td>\n",
       "    </tr>\n",
       "    <tr>\n",
       "      <th>16</th>\n",
       "      <td>Winter</td>\n",
       "      <td>2022-02-18</td>\n",
       "      <td>금요일</td>\n",
       "      <td>5.030397</td>\n",
       "    </tr>\n",
       "    <tr>\n",
       "      <th>17</th>\n",
       "      <td>Winter</td>\n",
       "      <td>2022-02-19</td>\n",
       "      <td>토요일</td>\n",
       "      <td>4.890571</td>\n",
       "    </tr>\n",
       "    <tr>\n",
       "      <th>18</th>\n",
       "      <td>Winter</td>\n",
       "      <td>2022-02-20</td>\n",
       "      <td>일요일</td>\n",
       "      <td>2.908910</td>\n",
       "    </tr>\n",
       "    <tr>\n",
       "      <th>19</th>\n",
       "      <td>Winter</td>\n",
       "      <td>2022-02-21</td>\n",
       "      <td>월요일</td>\n",
       "      <td>4.183417</td>\n",
       "    </tr>\n",
       "    <tr>\n",
       "      <th>20</th>\n",
       "      <td>Winter</td>\n",
       "      <td>2022-02-22</td>\n",
       "      <td>화요일</td>\n",
       "      <td>3.239015</td>\n",
       "    </tr>\n",
       "    <tr>\n",
       "      <th>21</th>\n",
       "      <td>Winter</td>\n",
       "      <td>2022-02-23</td>\n",
       "      <td>수요일</td>\n",
       "      <td>3.049211</td>\n",
       "    </tr>\n",
       "  </tbody>\n",
       "</table>\n",
       "</div>"
      ],
      "text/plain": [
       "    season        date weekday     corneph\n",
       "0     Fall  2021-11-26     금요일   12.287290\n",
       "1     Fall  2021-11-27     토요일   78.180280\n",
       "2     Fall  2021-11-28     일요일  153.413740\n",
       "3     Fall  2021-11-29     월요일   59.855689\n",
       "4     Fall  2021-11-30     화요일  313.447231\n",
       "5   Spring  2022-05-20     금요일    7.892161\n",
       "6   Spring  2022-05-21     토요일   14.156499\n",
       "7   Spring  2022-05-22     일요일   17.269618\n",
       "8   Spring  2022-05-23     월요일   29.370114\n",
       "9   Spring  2022-05-24     화요일    9.720066\n",
       "10  Spring  2022-05-25     수요일    6.641884\n",
       "11  Summer  2021-08-26     목요일   30.641082\n",
       "12  Summer  2021-08-27     금요일   13.115059\n",
       "13  Summer  2021-08-28     토요일   18.288764\n",
       "14  Summer  2021-08-29     일요일   19.060577\n",
       "15  Summer  2021-08-30     월요일   17.734647\n",
       "16  Winter  2022-02-18     금요일    5.030397\n",
       "17  Winter  2022-02-19     토요일    4.890571\n",
       "18  Winter  2022-02-20     일요일    2.908910\n",
       "19  Winter  2022-02-21     월요일    4.183417\n",
       "20  Winter  2022-02-22     화요일    3.239015\n",
       "21  Winter  2022-02-23     수요일    3.049211"
      ]
     },
     "execution_count": 6,
     "metadata": {},
     "output_type": "execute_result"
    }
   ],
   "source": [
    "# 계절별, 날짜별, 요일별 pm2.5 평균\n",
    "\n",
    "df_id = df[df[\"PID\"] == \"004-003\"].groupby(['season', 'date', 'weekday'])['corneph'].agg('mean').reset_index()\n",
    "df_id"
   ]
  },
  {
   "cell_type": "code",
   "execution_count": 79,
   "metadata": {},
   "outputs": [
    {
     "name": "stderr",
     "output_type": "stream",
     "text": [
      "C:\\Users\\Soyoung Han\\AppData\\Local\\Temp\\ipykernel_25704\\967638414.py:23: SettingWithCopyWarning: \n",
      "A value is trying to be set on a copy of a slice from a DataFrame.\n",
      "Try using .loc[row_indexer,col_indexer] = value instead\n",
      "\n",
      "See the caveats in the documentation: https://pandas.pydata.org/pandas-docs/stable/user_guide/indexing.html#returning-a-view-versus-a-copy\n",
      "  df_fall['colours'] = df_fall['corneph'].apply(get_colour)\n"
     ]
    },
    {
     "data": {
      "image/png": "[encoded data removed]",
      "text/plain": [
       "<Figure size 720x432 with 1 Axes>"
      ]
     },
     "metadata": {
      "needs_background": "light"
     },
     "output_type": "display_data"
    }
   ],
   "source": [
    "# 좋음 0~15\n",
    "# 보통 16~35\n",
    "# 나쁨 36~75\n",
    "# 매우 나쁨 76이상 \n",
    "\n",
    "# good = '#94df49'\n",
    "# normal = '#c4b70a'\n",
    "# bad = '#d89000'\n",
    "# awful = '#d86b22'\n",
    "\n",
    "df_fall = df_id[df_id[\"season\"] == \"Fall\"]\n",
    "\n",
    "def get_colour(x): \n",
    "    if x >= 76:\n",
    "        return '#d86b22'\n",
    "    elif x >=36:\n",
    "        return '#d89000'\n",
    "    elif x > 16:\n",
    "        return '#c4b70a'\n",
    "    else:\n",
    "        return '#94df49'\n",
    "\n",
    "df_fall['colours'] = df_fall['corneph'].apply(get_colour)\n",
    "\n",
    "fig, ax = plt.subplots(figsize=(10,6))\n",
    "plt.rcParams['font.family'] = 'Malgun Gothic'\n",
    "\n",
    "bars = plt.bar(df_fall['weekday'], df_fall['corneph'], color = df_fall['colours'])\n",
    "ax.spines[['right', 'top']].set_visible(False)\n",
    "\n",
    "ax.bar_label(bars, padding=8, color='black', \n",
    "             fontsize=12, label_type='edge', fmt='%.2f',\n",
    "            fontweight='bold')\n",
    "fig.suptitle('가을', x= 0.5, y = 1.02, fontsize=20, weight='bold') \n",
    "plt.title(\"측정기간 : 2021.11.26 ~ 2021.11.30\", x = 0.5, y = 1.05)\n",
    "\n",
    "# Create a custom legend with two rectangles and labels\n",
    "good = mpatches.Patch(color= '#94df49', label='좋음')\n",
    "normal = mpatches.Patch(color='#c4b70a', label='보통')\n",
    "bad = mpatches.Patch(color='#d89000', label='나쁨')\n",
    "awful = mpatches.Patch(color='#d86b22', label='매우나쁨')\n",
    "legend_handles = [good, normal, bad, awful]\n",
    "legend_labels = ['좋음', '보통', '나쁨', '매우나쁨']\n",
    "\n",
    "# Create a rectangle patch to represent the scale\n",
    "scale_patch = mpatches.Rectangle((0, 0), 1, 1, color='grey', alpha=0.5)\n",
    "\n",
    "# Add the legend handles and labels to the legend\n",
    "legend_handles.append(scale_patch)\n",
    "\n",
    "# Add the legend to the plot\n",
    "plt.legend(handles=legend_handles, labels=legend_labels, loc=(0.25,-0.15), ncol = 4)\n",
    "\n",
    "plt.show()"
   ]
  },
  {
   "cell_type": "code",
   "execution_count": 34,
   "metadata": {},
   "outputs": [
    {
     "name": "stderr",
     "output_type": "stream",
     "text": [
      "<ipython-input-34-3866aa993dcc>:13: SettingWithCopyWarning: \n",
      "A value is trying to be set on a copy of a slice from a DataFrame.\n",
      "Try using .loc[row_indexer,col_indexer] = value instead\n",
      "\n",
      "See the caveats in the documentation: https://pandas.pydata.org/pandas-docs/stable/user_guide/indexing.html#returning-a-view-versus-a-copy\n",
      "  df_fall['colours'] = df_fall['corneph'].apply(get_colour)\n"
     ]
    },
    {
     "data": {
      "image/png": "[encoded data removed]",
      "text/plain": [
       "<Figure size 720x432 with 1 Axes>"
      ]
     },
     "metadata": {
      "needs_background": "light"
     },
     "output_type": "display_data"
    }
   ],
   "source": [
    "df_fall = df_id[df_id[\"season\"] == \"Spring\"]\n",
    "\n",
    "def get_colour(x): \n",
    "    if x >= 76:\n",
    "        return '#d86b22'\n",
    "    elif x >=36:\n",
    "        return '#d89000'\n",
    "    elif x > 16:\n",
    "        return '#c4b70a'\n",
    "    else:\n",
    "        return '#94df49'\n",
    "\n",
    "df_fall['colours'] = df_fall['corneph'].apply(get_colour)\n",
    "\n",
    "fig, ax = plt.subplots(figsize=(10,6))\n",
    "plt.rcParams['font.family'] = 'Malgun Gothic'\n",
    "\n",
    "bars = plt.bar(df_fall['weekday'], df_fall['corneph'], color = df_fall['colours'])\n",
    "ax.spines[['right', 'top']].set_visible(False)\n",
    "\n",
    "ax.bar_label(bars, padding=8, color='black', \n",
    "             fontsize=12, label_type='edge', fmt='%.2f',\n",
    "            fontweight='bold')\n",
    "fig.suptitle('봄', x= 0.5, y = 1.02, fontsize=20, weight='bold') \n",
    "plt.title(\"측정기간 : 2022.05.20 ~ 2022.05.25\", x = 0.5, y = 1.05)\n",
    "\n",
    "# Create a custom legend with two rectangles and labels\n",
    "good = mpatches.Patch(color= '#94df49', label='좋음')\n",
    "normal = mpatches.Patch(color='#c4b70a', label='보통')\n",
    "bad = mpatches.Patch(color='#d89000', label='나쁨')\n",
    "awful = mpatches.Patch(color='#d86b22', label='매우나쁨')\n",
    "legend_handles = [good, normal, bad, awful]\n",
    "legend_labels = ['좋음', '보통', '나쁨', '매우나쁨']\n",
    "\n",
    "# Create a rectangle patch to represent the scale\n",
    "scale_patch = mpatches.Rectangle((0, 0), 1, 1, color='grey', alpha=0.5)\n",
    "\n",
    "# Add the legend handles and labels to the legend\n",
    "legend_handles.append(scale_patch)\n",
    "\n",
    "# Add the legend to the plot\n",
    "plt.legend(handles=legend_handles, labels=legend_labels, loc=(0.25,-0.15), ncols = 4)\n",
    "\n",
    "# 저장하기 \n",
    "# plt.savefig('test_graph.png', bbox_inches = 'tight', facecolor='#ffffff')\n",
    "plt.show()"
   ]
  },
  {
   "cell_type": "code",
   "execution_count": 35,
   "metadata": {},
   "outputs": [],
   "source": [
    "# 차트 함수\n",
    "\n",
    "def barchart(season, season_title, start_date, end_date):\n",
    "    df_season = df_id[df_id[\"season\"] == season]\n",
    "\n",
    "    def get_colour(x): \n",
    "        if x >= 76:\n",
    "            return '#d86b22'\n",
    "        elif x >=36:\n",
    "            return '#d89000'\n",
    "        elif x > 16:\n",
    "            return '#c4b70a'\n",
    "        else:\n",
    "            return '#94df49'\n",
    "\n",
    "    df_season['colours'] = df_season['corneph'].apply(get_colour)\n",
    "\n",
    "    fig, ax = plt.subplots(figsize=(10,6))\n",
    "    plt.rcParams['font.family'] = 'Malgun Gothic'\n",
    "\n",
    "    bars = plt.bar(df_season['weekday'], df_season['corneph'], color = df_season['colours'])\n",
    "    ax.spines[['right', 'top']].set_visible(False)\n",
    "\n",
    "    ax.bar_label(bars, padding=8, color='black', \n",
    "             fontsize=12, label_type='edge', fmt='%.2f',\n",
    "            fontweight='bold')\n",
    "    fig.suptitle(season_title, x= 0.5, y = 1.02, fontsize=20, weight='bold') \n",
    "    plt.title(\"측정기간 : {} ~ {}\".format(start_date, end_date), x = 0.5, y = 1.05)\n",
    "\n",
    "    # Create a custom legend with two rectangles and labels\n",
    "    good = mpatches.Patch(color= '#94df49', label='좋음')\n",
    "    normal = mpatches.Patch(color='#c4b70a', label='보통')\n",
    "    bad = mpatches.Patch(color='#d89000', label='나쁨')\n",
    "    awful = mpatches.Patch(color='#d86b22', label='매우나쁨')\n",
    "    legend_handles = [good, normal, bad, awful]\n",
    "    legend_labels = ['좋음', '보통', '나쁨', '매우나쁨']\n",
    "\n",
    "    # Create a rectangle patch to represent the scale\n",
    "    scale_patch = mpatches.Rectangle((0, 0), 1, 1, color='grey', alpha=0.5)\n",
    "\n",
    "    #Add the legend handles and labels to the legend\n",
    "    legend_handles.append(scale_patch)\n",
    "\n",
    "    # Add the legend to the plot\n",
    "    plt.legend(handles=legend_handles, labels=legend_labels, loc=(0.25,-0.15), ncols = 4)"
   ]
  },
  {
   "cell_type": "code",
   "execution_count": 36,
   "metadata": {},
   "outputs": [
    {
     "name": "stderr",
     "output_type": "stream",
     "text": [
      "<ipython-input-35-b9b1494b7eb8>:16: SettingWithCopyWarning: \n",
      "A value is trying to be set on a copy of a slice from a DataFrame.\n",
      "Try using .loc[row_indexer,col_indexer] = value instead\n",
      "\n",
      "See the caveats in the documentation: https://pandas.pydata.org/pandas-docs/stable/user_guide/indexing.html#returning-a-view-versus-a-copy\n",
      "  df_season['colours'] = df_season['corneph'].apply(get_colour)\n"
     ]
    },
    {
     "data": {
      "image/png": "[encoded data removed]",
      "text/plain": [
       "<Figure size 720x432 with 1 Axes>"
      ]
     },
     "metadata": {
      "needs_background": "light"
     },
     "output_type": "display_data"
    }
   ],
   "source": [
    "barchart(\"Spring\", \"봄\", \"2022.05.20\", \"2022.05.25\")\n",
    "plt.savefig('spring.png', bbox_inches = 'tight', facecolor='#ffffff')"
   ]
  },
  {
   "cell_type": "code",
   "execution_count": 37,
   "metadata": {},
   "outputs": [
    {
     "name": "stderr",
     "output_type": "stream",
     "text": [
      "<ipython-input-35-b9b1494b7eb8>:16: SettingWithCopyWarning: \n",
      "A value is trying to be set on a copy of a slice from a DataFrame.\n",
      "Try using .loc[row_indexer,col_indexer] = value instead\n",
      "\n",
      "See the caveats in the documentation: https://pandas.pydata.org/pandas-docs/stable/user_guide/indexing.html#returning-a-view-versus-a-copy\n",
      "  df_season['colours'] = df_season['corneph'].apply(get_colour)\n"
     ]
    },
    {
     "data": {
      "image/png": "[encoded data removed]",
      "text/plain": [
       "<Figure size 720x432 with 1 Axes>"
      ]
     },
     "metadata": {
      "needs_background": "light"
     },
     "output_type": "display_data"
    }
   ],
   "source": [
    "barchart(\"Summer\", \"여름\", \"2022.08.26\", \"2022.08.30\")\n",
    "plt.savefig('summer.png', bbox_inches = 'tight', facecolor='#ffffff')"
   ]
  },
  {
   "cell_type": "code",
   "execution_count": 38,
   "metadata": {},
   "outputs": [
    {
     "name": "stderr",
     "output_type": "stream",
     "text": [
      "<ipython-input-35-b9b1494b7eb8>:16: SettingWithCopyWarning: \n",
      "A value is trying to be set on a copy of a slice from a DataFrame.\n",
      "Try using .loc[row_indexer,col_indexer] = value instead\n",
      "\n",
      "See the caveats in the documentation: https://pandas.pydata.org/pandas-docs/stable/user_guide/indexing.html#returning-a-view-versus-a-copy\n",
      "  df_season['colours'] = df_season['corneph'].apply(get_colour)\n"
     ]
    },
    {
     "data": {
      "image/png": "[encoded data removed]",
      "text/plain": [
       "<Figure size 720x432 with 1 Axes>"
      ]
     },
     "metadata": {
      "needs_background": "light"
     },
     "output_type": "display_data"
    }
   ],
   "source": [
    "barchart(\"Winter\", \"겨울\", \"2022.02.18\", \"2022.02.23\")\n",
    "plt.savefig('winter.png', bbox_inches = 'tight', facecolor='#ffffff')"
   ]
  },
  {
   "cell_type": "code",
   "execution_count": 39,
   "metadata": {},
   "outputs": [
    {
     "name": "stderr",
     "output_type": "stream",
     "text": [
      "<ipython-input-35-b9b1494b7eb8>:16: SettingWithCopyWarning: \n",
      "A value is trying to be set on a copy of a slice from a DataFrame.\n",
      "Try using .loc[row_indexer,col_indexer] = value instead\n",
      "\n",
      "See the caveats in the documentation: https://pandas.pydata.org/pandas-docs/stable/user_guide/indexing.html#returning-a-view-versus-a-copy\n",
      "  df_season['colours'] = df_season['corneph'].apply(get_colour)\n"
     ]
    },
    {
     "data": {
      "image/png": "[encoded data removed]",
      "text/plain": [
       "<Figure size 720x432 with 1 Axes>"
      ]
     },
     "metadata": {
      "needs_background": "light"
     },
     "output_type": "display_data"
    }
   ],
   "source": [
    "barchart(\"Fall\", \"가을\", \"2021.11.26\", \"2021.11.30\")\n",
    "plt.savefig('fall.png', bbox_inches = 'tight', facecolor='#ffffff')"
   ]
  },
  {
   "cell_type": "code",
   "execution_count": 48,
   "metadata": {},
   "outputs": [
    {
     "data": {
      "image/png": "[encoded data removed]",
      "text/plain": [
       "<Figure size 432x288 with 1 Axes>"
      ]
     },
     "metadata": {
      "needs_background": "light"
     },
     "output_type": "display_data"
    }
   ],
   "source": [
    "species = (\"Adelie\", \"Chinstrap\", \"Gentoo\")\n",
    "penguin_means = {\n",
    "    'Bill Depth': (18.35, 18.43, 14.98),\n",
    "    'Bill Length': (38.79, 48.83, 47.50),\n",
    "    'Flipper Length': (189.95, 195.82, 217.19),\n",
    "}\n",
    "\n",
    "x = np.arange(len(species))  # the label locations\n",
    "width = 0.25  # the width of the bars\n",
    "multiplier = 0\n",
    "\n",
    "fig, ax = plt.subplots(layout='constrained')\n",
    "\n",
    "for i, (name, values) in enumerate(penguin_means.items()):\n",
    "    rects = ax.bar(x + i*width, values, width, label=name)\n",
    "    ax.bar_label(rects, padding=3)\n",
    "\n",
    "# Add some text for labels, title and custom x-axis tick labels, etc.\n",
    "ax.set_ylabel('Length (mm)')\n",
    "ax.set_title('Penguin attributes by species')\n",
    "ax.set_xticks(x + width, species)\n",
    "ax.legend(loc='upper left', ncol = 3)\n",
    "ax.set_ylim(0, 250)\n",
    "\n",
    "plt.show()"
   ]
  },
  {
   "cell_type": "code",
   "execution_count": 85,
   "metadata": {},
   "outputs": [
    {
     "data": {
      "text/html": [
       "<div>\n",
       "<style scoped>\n",
       "    .dataframe tbody tr th:only-of-type {\n",
       "        vertical-align: middle;\n",
       "    }\n",
       "\n",
       "    .dataframe tbody tr th {\n",
       "        vertical-align: top;\n",
       "    }\n",
       "\n",
       "    .dataframe thead th {\n",
       "        text-align: right;\n",
       "    }\n",
       "</style>\n",
       "<table border=\"1\" class=\"dataframe\">\n",
       "  <thead>\n",
       "    <tr style=\"text-align: right;\">\n",
       "      <th></th>\n",
       "      <th>season</th>\n",
       "      <th>date</th>\n",
       "      <th>weekday</th>\n",
       "      <th>corneph</th>\n",
       "    </tr>\n",
       "  </thead>\n",
       "  <tbody>\n",
       "    <tr>\n",
       "      <th>0</th>\n",
       "      <td>Fall</td>\n",
       "      <td>2021-11-26</td>\n",
       "      <td>금요일</td>\n",
       "      <td>12.28729</td>\n",
       "    </tr>\n",
       "    <tr>\n",
       "      <th>1</th>\n",
       "      <td>Fall</td>\n",
       "      <td>2021-11-27</td>\n",
       "      <td>토요일</td>\n",
       "      <td>78.18028</td>\n",
       "    </tr>\n",
       "  </tbody>\n",
       "</table>\n",
       "</div>"
      ],
      "text/plain": [
       "  season        date weekday   corneph\n",
       "0   Fall  2021-11-26     금요일  12.28729\n",
       "1   Fall  2021-11-27     토요일  78.18028"
      ]
     },
     "execution_count": 85,
     "metadata": {},
     "output_type": "execute_result"
    }
   ],
   "source": [
    "df_id.head(2)"
   ]
  },
  {
   "cell_type": "code",
   "execution_count": 86,
   "metadata": {},
   "outputs": [
    {
     "data": {
      "text/html": [
       "<div>\n",
       "<style scoped>\n",
       "    .dataframe tbody tr th:only-of-type {\n",
       "        vertical-align: middle;\n",
       "    }\n",
       "\n",
       "    .dataframe tbody tr th {\n",
       "        vertical-align: top;\n",
       "    }\n",
       "\n",
       "    .dataframe thead th {\n",
       "        text-align: right;\n",
       "    }\n",
       "</style>\n",
       "<table border=\"1\" class=\"dataframe\">\n",
       "  <thead>\n",
       "    <tr style=\"text-align: right;\">\n",
       "      <th>season</th>\n",
       "      <th>weekday</th>\n",
       "      <th>Fall</th>\n",
       "      <th>Spring</th>\n",
       "      <th>Summer</th>\n",
       "      <th>Winter</th>\n",
       "    </tr>\n",
       "  </thead>\n",
       "  <tbody>\n",
       "    <tr>\n",
       "      <th>0</th>\n",
       "      <td>금요일</td>\n",
       "      <td>12.287290</td>\n",
       "      <td>7.892161</td>\n",
       "      <td>13.115059</td>\n",
       "      <td>5.030397</td>\n",
       "    </tr>\n",
       "    <tr>\n",
       "      <th>1</th>\n",
       "      <td>목요일</td>\n",
       "      <td>NaN</td>\n",
       "      <td>NaN</td>\n",
       "      <td>30.641082</td>\n",
       "      <td>NaN</td>\n",
       "    </tr>\n",
       "    <tr>\n",
       "      <th>2</th>\n",
       "      <td>수요일</td>\n",
       "      <td>NaN</td>\n",
       "      <td>6.641884</td>\n",
       "      <td>NaN</td>\n",
       "      <td>3.049211</td>\n",
       "    </tr>\n",
       "    <tr>\n",
       "      <th>3</th>\n",
       "      <td>월요일</td>\n",
       "      <td>59.855689</td>\n",
       "      <td>29.370114</td>\n",
       "      <td>17.734647</td>\n",
       "      <td>4.183417</td>\n",
       "    </tr>\n",
       "    <tr>\n",
       "      <th>4</th>\n",
       "      <td>일요일</td>\n",
       "      <td>153.413740</td>\n",
       "      <td>17.269618</td>\n",
       "      <td>19.060577</td>\n",
       "      <td>2.908910</td>\n",
       "    </tr>\n",
       "    <tr>\n",
       "      <th>5</th>\n",
       "      <td>토요일</td>\n",
       "      <td>78.180280</td>\n",
       "      <td>14.156499</td>\n",
       "      <td>18.288764</td>\n",
       "      <td>4.890571</td>\n",
       "    </tr>\n",
       "    <tr>\n",
       "      <th>6</th>\n",
       "      <td>화요일</td>\n",
       "      <td>313.447231</td>\n",
       "      <td>9.720066</td>\n",
       "      <td>NaN</td>\n",
       "      <td>3.239015</td>\n",
       "    </tr>\n",
       "  </tbody>\n",
       "</table>\n",
       "</div>"
      ],
      "text/plain": [
       "season weekday        Fall     Spring     Summer    Winter\n",
       "0          금요일   12.287290   7.892161  13.115059  5.030397\n",
       "1          목요일         NaN        NaN  30.641082       NaN\n",
       "2          수요일         NaN   6.641884        NaN  3.049211\n",
       "3          월요일   59.855689  29.370114  17.734647  4.183417\n",
       "4          일요일  153.413740  17.269618  19.060577  2.908910\n",
       "5          토요일   78.180280  14.156499  18.288764  4.890571\n",
       "6          화요일  313.447231   9.720066        NaN  3.239015"
      ]
     },
     "execution_count": 86,
     "metadata": {},
     "output_type": "execute_result"
    }
   ],
   "source": [
    "df_pivot = pd.pivot(df_id, index = ['weekday'], columns = 'season', values = 'corneph').reset_index()\n",
    "df_pivot"
   ]
  },
  {
   "cell_type": "code",
   "execution_count": 87,
   "metadata": {},
   "outputs": [],
   "source": [
    "# 수, 목요일 제외하기\n",
    "\n",
    "df_pivot = df_pivot[~df_pivot['weekday'].isin(['수요일', '목요일'])].reset_index()\n",
    "df_pivot = df_pivot.drop(labels = 'index', axis =1)"
   ]
  },
  {
   "cell_type": "code",
   "execution_count": 89,
   "metadata": {},
   "outputs": [
    {
     "data": {
      "text/html": [
       "<div>\n",
       "<style scoped>\n",
       "    .dataframe tbody tr th:only-of-type {\n",
       "        vertical-align: middle;\n",
       "    }\n",
       "\n",
       "    .dataframe tbody tr th {\n",
       "        vertical-align: top;\n",
       "    }\n",
       "\n",
       "    .dataframe thead th {\n",
       "        text-align: right;\n",
       "    }\n",
       "</style>\n",
       "<table border=\"1\" class=\"dataframe\">\n",
       "  <thead>\n",
       "    <tr style=\"text-align: right;\">\n",
       "      <th></th>\n",
       "      <th>weekday</th>\n",
       "      <th>가을</th>\n",
       "      <th>봄</th>\n",
       "      <th>여름</th>\n",
       "      <th>겨울</th>\n",
       "    </tr>\n",
       "  </thead>\n",
       "  <tbody>\n",
       "    <tr>\n",
       "      <th>0</th>\n",
       "      <td>금요일</td>\n",
       "      <td>12.287290</td>\n",
       "      <td>7.892161</td>\n",
       "      <td>13.115059</td>\n",
       "      <td>5.030397</td>\n",
       "    </tr>\n",
       "    <tr>\n",
       "      <th>1</th>\n",
       "      <td>월요일</td>\n",
       "      <td>59.855689</td>\n",
       "      <td>29.370114</td>\n",
       "      <td>17.734647</td>\n",
       "      <td>4.183417</td>\n",
       "    </tr>\n",
       "    <tr>\n",
       "      <th>2</th>\n",
       "      <td>일요일</td>\n",
       "      <td>153.413740</td>\n",
       "      <td>17.269618</td>\n",
       "      <td>19.060577</td>\n",
       "      <td>2.908910</td>\n",
       "    </tr>\n",
       "    <tr>\n",
       "      <th>3</th>\n",
       "      <td>토요일</td>\n",
       "      <td>78.180280</td>\n",
       "      <td>14.156499</td>\n",
       "      <td>18.288764</td>\n",
       "      <td>4.890571</td>\n",
       "    </tr>\n",
       "    <tr>\n",
       "      <th>4</th>\n",
       "      <td>화요일</td>\n",
       "      <td>313.447231</td>\n",
       "      <td>9.720066</td>\n",
       "      <td>NaN</td>\n",
       "      <td>3.239015</td>\n",
       "    </tr>\n",
       "  </tbody>\n",
       "</table>\n",
       "</div>"
      ],
      "text/plain": [
       "  weekday          가을          봄         여름        겨울\n",
       "0     금요일   12.287290   7.892161  13.115059  5.030397\n",
       "1     월요일   59.855689  29.370114  17.734647  4.183417\n",
       "2     일요일  153.413740  17.269618  19.060577  2.908910\n",
       "3     토요일   78.180280  14.156499  18.288764  4.890571\n",
       "4     화요일  313.447231   9.720066        NaN  3.239015"
      ]
     },
     "execution_count": 89,
     "metadata": {},
     "output_type": "execute_result"
    }
   ],
   "source": [
    "df_pivot.columns = ['weekday', '가을', '봄', '여름', '겨울']\n",
    "df_pivot"
   ]
  },
  {
   "cell_type": "code",
   "execution_count": 90,
   "metadata": {},
   "outputs": [
    {
     "data": {
      "text/plain": [
       "['금요일', '월요일', '일요일', '토요일', '화요일']"
      ]
     },
     "execution_count": 90,
     "metadata": {},
     "output_type": "execute_result"
    }
   ],
   "source": [
    "df_pivot['weekday'].tolist()"
   ]
  },
  {
   "cell_type": "code",
   "execution_count": 91,
   "metadata": {},
   "outputs": [
    {
     "data": {
      "text/plain": [
       "<generator object DataFrame.items at 0x00000249C7EB9DD0>"
      ]
     },
     "execution_count": 91,
     "metadata": {},
     "output_type": "execute_result"
    }
   ],
   "source": [
    "season_corneph = df_pivot[['봄', '여름', '가을','겨울']]\n",
    "season_corneph.items()"
   ]
  },
  {
   "cell_type": "code",
   "execution_count": 98,
   "metadata": {},
   "outputs": [],
   "source": [
    "import matplotlib.colors as mcolors\n",
    "\n",
    "# Define custom colors for the colormap\n",
    "custom_colors = ['#F2F79E', '#A8D4AD', '#92B9BD', '#967D69']\n",
    "\n",
    "# Create a ListedColormap with custom colors\n",
    "custom_cmap = mcolors.ListedColormap(custom_colors)\n",
    "\n"
   ]
  },
  {
   "cell_type": "code",
   "execution_count": 147,
   "metadata": {},
   "outputs": [
    {
     "data": {
      "image/png": "[encoded data removed]",
      "text/plain": [
       "<Figure size 720x432 with 1 Axes>"
      ]
     },
     "metadata": {
      "needs_background": "light"
     },
     "output_type": "display_data"
    }
   ],
   "source": [
    "# 좋음 0~15\n",
    "# 보통 16~35\n",
    "# 나쁨 36~75\n",
    "# 매우 나쁨 76이상 \n",
    "\n",
    "weekday = ['금요일', '토요일', '일요일', '월요일', '화요일']\n",
    "season_corneph = df_pivot[['봄', '여름', '가을','겨울']]\n",
    "x = np.arange(len(weekday))  # the label locations\n",
    "width = 0.2  # the width of the bars\n",
    "\n",
    "fig, ax = plt.subplots(layout='constrained', figsize=(10,6))\n",
    "\n",
    "# Define custom colors for each bar\n",
    "custom_colors = ['#F2F79E', '#A8D4AD', '#92B9BD', '#967D69']\n",
    "custom_colors_2 = ['#99C24D', '#048BA8', '#F18F01', '#2E4057']\n",
    "\n",
    "for i, (name, values) in enumerate(season_corneph.items()):\n",
    "    rects = ax.bar(x + i*width, values, width, label= name, color=custom_colors_2[i])\n",
    "    ax.bar_label(rects, padding=3, fmt='%.1f')\n",
    "    \n",
    "ax.spines[['right', 'top']].set_visible(False)\n",
    "ax.axhline(y=15, zorder=0, color='grey', ls='--', lw=1.5)\n",
    "ax.axhline(y=35, zorder=0, color='grey', ls='--', lw=1.5)\n",
    "ax.axhline(y=75, zorder=0, color='red', ls='--', lw=1.5)\n",
    "\n",
    "ax.text(x=5.1, y=10, s='보통', ha='center', fontsize=12)\n",
    "ax.text(x=5.1, y=30, s='나쁨', ha='center', fontsize=12)\n",
    "ax.text(x=5.2, y=70, s='매우나쁨', ha='center', fontsize=12, color = 'red')\n",
    "# bbox=dict(facecolor='white', edgecolor='grey', ls='--')\n",
    "\n",
    "# Add some text for labels, title and custom x-axis tick labels, etc.\n",
    "ax.set_ylabel('PM2.5')\n",
    "ax.set_title('계절별 실내 미세먼지 농도', fontsize = 15)\n",
    "ax.set_xticks(x + width*1.2, weekday)\n",
    "ax.legend(loc='upper left')\n",
    "ax.set_ylim(0, 350)\n",
    "# ax.grid(True, axis = 'y', color='gray', linewidth=0.5, alpha = 0.5)\n",
    "\n",
    "plt.savefig('seasonal_with_barlabel.png', bbox_inches = 'tight', facecolor='#ffffff')\n",
    "plt.show()\n"
   ]
  },
  {
   "cell_type": "code",
   "execution_count": 145,
   "metadata": {},
   "outputs": [
    {
     "data": {
      "image/png": "[encoded data removed]",
      "text/plain": [
       "<Figure size 720x432 with 1 Axes>"
      ]
     },
     "metadata": {
      "needs_background": "light"
     },
     "output_type": "display_data"
    }
   ],
   "source": [
    "# 좋음 0~15\n",
    "# 보통 16~35\n",
    "# 나쁨 36~75\n",
    "# 매우 나쁨 76이상 \n",
    "\n",
    "weekday = ['금요일', '토요일', '일요일', '월요일', '화요일']\n",
    "season_corneph = df_pivot[['봄', '여름', '가을','겨울']]\n",
    "x = np.arange(len(weekday))  # the label locations\n",
    "width = 0.2  # the width of the bars\n",
    "\n",
    "fig, ax = plt.subplots(layout='constrained', figsize=(10,6))\n",
    "\n",
    "# Define custom colors for each bar\n",
    "custom_colors = ['#F2F79E', '#A8D4AD', '#92B9BD', '#967D69']\n",
    "custom_colors_2 = ['#99C24D', '#048BA8', '#F18F01', '#2E4057']\n",
    "\n",
    "for i, (name, values) in enumerate(season_corneph.items()):\n",
    "    rects = ax.bar(x + i*width, values, width, label= name, color=custom_colors_2[i])\n",
    "    \n",
    "ax.spines[['right', 'top']].set_visible(False)\n",
    "ax.axhline(y=15, zorder=0, color='grey', ls='--', lw=1.5)\n",
    "ax.axhline(y=35, zorder=0, color='grey', ls='--', lw=1.5)\n",
    "ax.axhline(y=75, zorder=0, color='red', ls='--', lw=1.5)\n",
    "\n",
    "ax.text(x=5.1, y=10, s='보통', ha='center', fontsize=12)\n",
    "ax.text(x=5.1, y=30, s='나쁨', ha='center', fontsize=12)\n",
    "ax.text(x=5.2, y=70, s='매우나쁨', ha='center', fontsize=12, color = 'red')\n",
    "# bbox=dict(facecolor='white', edgecolor='grey', ls='--')\n",
    "\n",
    "# Add some text for labels, title and custom x-axis tick labels, etc.\n",
    "ax.set_ylabel('PM2.5')\n",
    "ax.set_title('계절별 실내 미세먼지 농도', fontsize = 15)\n",
    "ax.set_xticks(x + width*1.2, weekday)\n",
    "ax.legend(loc='upper left')\n",
    "ax.set_ylim(0, 350)\n",
    "# ax.grid(True, axis = 'y', color='gray', linewidth=0.5, alpha = 0.5)\n",
    "\n",
    "plt.savefig('seasonal_without_barlabel.png', bbox_inches = 'tight', facecolor='#ffffff')\n",
    "\n",
    "plt.show()"
   ]
  }
 ],
 "metadata": {
  "kernelspec": {
   "display_name": "Python 3",
   "language": "python",
   "name": "python3"
  },
  "language_info": {
   "codemirror_mode": {
    "name": "ipython",
    "version": 3
   },
   "file_extension": ".py",
   "mimetype": "text/x-python",
   "name": "python",
   "nbconvert_exporter": "python",
   "pygments_lexer": "ipython3",
   "version": "3.8.3"
  }
 },
 "nbformat": 4,
 "nbformat_minor": 5
}
